{
  "nbformat": 4,
  "nbformat_minor": 0,
  "metadata": {
    "colab": {
      "name": "CSE_309_Class_5.ipynb",
      "provenance": [],
      "collapsed_sections": [],
      "authorship_tag": "ABX9TyOckUn9xQvrHBWFbc5mba0N",
      "include_colab_link": true
    },
    "kernelspec": {
      "name": "python3",
      "display_name": "Python 3"
    }
  },
  "cells": [
    {
      "cell_type": "markdown",
      "metadata": {
        "id": "view-in-github",
        "colab_type": "text"
      },
      "source": [
        "<a href=\"https://colab.research.google.com/github/YasirMredul/CSE309/blob/master/CSE_309_Class_5.ipynb\" target=\"_parent\"><img src=\"https://colab.research.google.com/assets/colab-badge.svg\" alt=\"Open In Colab\"/></a>"
      ]
    },
    {
      "cell_type": "code",
      "metadata": {
        "id": "QECZ5nW_n234",
        "colab_type": "code",
        "colab": {}
      },
      "source": [
        ""
      ],
      "execution_count": null,
      "outputs": []
    },
    {
      "cell_type": "markdown",
      "metadata": {
        "id": "Uigi-OJWpQ-E",
        "colab_type": "text"
      },
      "source": [
        "print: 0-9\n",
        "....\n",
        "for (int i=0;i<10;i++){\n",
        "  System.out.println(i)\n",
        "}\n",
        ".....\n",
        "int i=0;\n",
        "while(i<10){\n",
        "  system.out.println(i);\n",
        "  i++;\n",
        "}"
      ]
    },
    {
      "cell_type": "code",
      "metadata": {
        "id": "buSjSJ-qqRAo",
        "colab_type": "code",
        "colab": {
          "base_uri": "https://localhost:8080/",
          "height": 185
        },
        "outputId": "bfda67d0-0fe9-4a9f-fb4a-1d7612463e34"
      },
      "source": [
        "i= 0\n",
        "while(i<10):\n",
        "  print(i)\n",
        "  i= i+1"
      ],
      "execution_count": 1,
      "outputs": [
        {
          "output_type": "stream",
          "text": [
            "0\n",
            "1\n",
            "2\n",
            "3\n",
            "4\n",
            "5\n",
            "6\n",
            "7\n",
            "8\n",
            "9\n"
          ],
          "name": "stdout"
        }
      ]
    },
    {
      "cell_type": "code",
      "metadata": {
        "id": "mGawJrGwqs0B",
        "colab_type": "code",
        "colab": {}
      },
      "source": [
        ""
      ],
      "execution_count": null,
      "outputs": []
    },
    {
      "cell_type": "markdown",
      "metadata": {
        "id": "IYcVRU1-qtkK",
        "colab_type": "text"
      },
      "source": [
        "1+2+......+10=?"
      ]
    },
    {
      "cell_type": "code",
      "metadata": {
        "id": "gHGWHSWXqwwJ",
        "colab_type": "code",
        "colab": {
          "base_uri": "https://localhost:8080/",
          "height": 34
        },
        "outputId": "56da492b-757a-417b-a4cd-7ee4d6a49ead"
      },
      "source": [
        "i=1\n",
        "sum =0\n",
        "while i<11 :\n",
        "  if(i ==10):\n",
        "    print(i,end=' ')\n",
        "  else:\n",
        "    print(i,\"+\",end=' ')\n",
        "  sum = sum+i\n",
        "  i += 1\n",
        "print(\"=\",sum)  \n",
        "  "
      ],
      "execution_count": 9,
      "outputs": [
        {
          "output_type": "stream",
          "text": [
            "1 + 2 + 3 + 4 + 5 + 6 + 7 + 8 + 9 + 10 = 55\n"
          ],
          "name": "stdout"
        }
      ]
    },
    {
      "cell_type": "markdown",
      "metadata": {
        "id": "t-9CrTaasQZT",
        "colab_type": "text"
      },
      "source": [
        "start :10\n",
        "end:20\n",
        "10+11+....+20=?"
      ]
    },
    {
      "cell_type": "code",
      "metadata": {
        "id": "IJ52TFp4sacf",
        "colab_type": "code",
        "colab": {
          "base_uri": "https://localhost:8080/",
          "height": 67
        },
        "outputId": "8e1ec4db-d2ed-4046-a685-65e83a429f27"
      },
      "source": [
        "start=int(input(\"start: \"))\n",
        "end_p = int(input(\"end: \"))\n",
        "\n",
        "sum =0\n",
        "i=start\n",
        "\n",
        "while i<end_p+1:\n",
        "  if(i==end_p):\n",
        "    print(i,end=' ')\n",
        "  else:\n",
        "    print(i,\"+\",end=' ')\n",
        "  sum=sum+i   \n",
        "  i +=1\n",
        "print(\"=\",sum)   "
      ],
      "execution_count": 10,
      "outputs": [
        {
          "output_type": "stream",
          "text": [
            "start: 10\n",
            "end: 20\n",
            "10 + 11 + 12 + 13 + 14 + 15 + 16 + 17 + 18 + 19 + 20 = 165\n"
          ],
          "name": "stdout"
        }
      ]
    },
    {
      "cell_type": "markdown",
      "metadata": {
        "id": "6IP5nHKEuFgc",
        "colab_type": "text"
      },
      "source": [
        "input:\n",
        "start: 20\n",
        "finish: 40\n",
        "output:\n",
        "20 + 22 + 24 + ... + 40 =?"
      ]
    },
    {
      "cell_type": "code",
      "metadata": {
        "id": "XzVo2EkyuHDT",
        "colab_type": "code",
        "colab": {
          "base_uri": "https://localhost:8080/",
          "height": 67
        },
        "outputId": "08857c46-3788-4d96-8cb3-d602bd479ed0"
      },
      "source": [
        "start=int(input(\"start: \"))\n",
        "end_p = int(input(\"end: \"))\n",
        "\n",
        "if start%2 ==1:\n",
        " start=start+1\n",
        "\n",
        "if end_p%2==1:\n",
        "  end_p=end_p-1 \n",
        "\n",
        "sum =0\n",
        "i=start\n",
        "\n",
        "while i<end_p+1:\n",
        "\n",
        "  if(i==end_p):\n",
        "    print(i,end=' ')\n",
        "  else:\n",
        "    print(i,\"+\",end=' ')\n",
        "  sum=sum+i   \n",
        "  i +=2\n",
        "print(\"=\",sum) "
      ],
      "execution_count": 20,
      "outputs": [
        {
          "output_type": "stream",
          "text": [
            "start: 10\n",
            "end: 21\n",
            "10 + 12 + 14 + 16 + 18 + 20 = 90\n"
          ],
          "name": "stdout"
        }
      ]
    }
  ]
}