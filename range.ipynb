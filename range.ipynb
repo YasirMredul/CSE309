{
  "nbformat": 4,
  "nbformat_minor": 0,
  "metadata": {
    "colab": {
      "name": "range",
      "provenance": [],
      "authorship_tag": "ABX9TyO60zFLA/k89qJc88u1mhqg",
      "include_colab_link": true
    },
    "kernelspec": {
      "name": "python3",
      "display_name": "Python 3"
    }
  },
  "cells": [
    {
      "cell_type": "markdown",
      "metadata": {
        "id": "view-in-github",
        "colab_type": "text"
      },
      "source": [
        "<a href=\"https://colab.research.google.com/github/YasirMredul/CSE309/blob/master/range.ipynb\" target=\"_parent\"><img src=\"https://colab.research.google.com/assets/colab-badge.svg\" alt=\"Open In Colab\"/></a>"
      ]
    },
    {
      "cell_type": "code",
      "metadata": {
        "id": "xL-tAdT1Z2FV",
        "colab_type": "code",
        "colab": {
          "base_uri": "https://localhost:8080/",
          "height": 151
        },
        "outputId": "2426caf9-4f14-4c75-ed6e-6cc75ec04b56"
      },
      "source": [
        "l=[10,2,\"A\",\"B\",1010]\n",
        "for i in range (1,4):\n",
        "  print(l[i])\n",
        "for i in l:\n",
        "  print(i)  \n",
        "\n",
        "\n"
      ],
      "execution_count": 5,
      "outputs": [
        {
          "output_type": "stream",
          "text": [
            "2\n",
            "A\n",
            "B\n",
            "10\n",
            "2\n",
            "A\n",
            "B\n",
            "1010\n"
          ],
          "name": "stdout"
        }
      ]
    }
  ]
}